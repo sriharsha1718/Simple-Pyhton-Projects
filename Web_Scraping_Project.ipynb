{
  "nbformat": 4,
  "nbformat_minor": 0,
  "metadata": {
    "colab": {
      "provenance": [],
      "authorship_tag": "ABX9TyNEVSxN4XgmQ7I9ANdD1LrN",
      "include_colab_link": true
    },
    "kernelspec": {
      "name": "python3",
      "display_name": "Python 3"
    },
    "language_info": {
      "name": "python"
    }
  },
  "cells": [
    {
      "cell_type": "markdown",
      "metadata": {
        "id": "view-in-github",
        "colab_type": "text"
      },
      "source": [
        "<a href=\"https://colab.research.google.com/github/sriharsha1718/Simple-Python-Projects/blob/main/Web_Scraping_Project.ipynb\" target=\"_parent\"><img src=\"https://colab.research.google.com/assets/colab-badge.svg\" alt=\"Open In Colab\"/></a>"
      ]
    },
    {
      "cell_type": "code",
      "execution_count": 1,
      "metadata": {
        "id": "Mnr6W_YqqJBo"
      },
      "outputs": [],
      "source": [
        "#importing the necessary libraries\n",
        "import pandas as pd\n",
        "from bs4 import BeautifulSoup\n",
        "import requests\n",
        "import numpy as np"
      ]
    },
    {
      "cell_type": "code",
      "source": [
        "#Creating empty list to append scratch item\n",
        "Product_Name = []\n",
        "Prices = []\n",
        "Description = []\n",
        "Star_Rating = []\n",
        "Rating_Review = []"
      ],
      "metadata": {
        "id": "9oIDwB_BquM3"
      },
      "execution_count": 2,
      "outputs": []
    },
    {
      "cell_type": "code",
      "source": [
        "#Creating a for loop to send the 'http://' requests to the server\n",
        "for j in range(1,70):\n",
        "  url = \"https://www.flipkart.com/mobiles/~mobile-phones-under-rs10000/pr?sid=tyy%2C4io&page={}\".format(j)\n",
        "  headers = {'User-Agent':'Mozilla/5.0 (Windows NT 6.3; Win 64 ; x64) Apple WeKit/537.36(KHTML , like Gecko) Chrome/80.0.3987.162 Safari/537.36'}\n",
        "  webpage = requests.get(url, headers=headers).text\n",
        "\n",
        "  #Creating the soup\n",
        "  soup = BeautifulSoup(webpage, 'lxml')\n",
        "  page = soup.find(\"div\", class_ = \"_1YokD2 _3Mn1Gg\")\n",
        "\n",
        "  #finding the individual item in the soup\n",
        "  name = page.find_all(\"div\",class_=\"_4rR01T\")\n",
        "  for i in name:\n",
        "    Product_Name.append(i.text)\n",
        "\n",
        "  Price = page.find_all(\"div\",class_=\"_30jeq3 _1_WHN1\")\n",
        "  for i in Price:\n",
        "    Prices.append(i.text)\n",
        "\n",
        "  des=page.find_all(\"div\",class_=\"fMghEO\")\n",
        "  for i in des:\n",
        "    Description.append(i.text)\n",
        "\n",
        "  star_rating=page.find_all(\"div\",class_=\"_3LWZlK\")\n",
        "  for i in star_rating:\n",
        "    Star_Rating.append(i.text)\n",
        "\n",
        "  rating=page.find_all(\"span\",class_=\"_2_R_DZ\")\n",
        "  for i in rating:\n",
        "    Rating_Review.append(i.text)"
      ],
      "metadata": {
        "id": "FVW2G8V5rUth"
      },
      "execution_count": 3,
      "outputs": []
    },
    {
      "cell_type": "code",
      "source": [
        "#Creating the dictionary with scratch item list.\n",
        "dic={\"Name\":Product_Name,\n",
        "\"Prices\":Prices,\n",
        "\"Descriptions\":Description,\n",
        "\"Star_Rating\":Star_Rating,\n",
        "\"Rating_Review\":Rating_Review}"
      ],
      "metadata": {
        "id": "VjYPDHrWun1F"
      },
      "execution_count": 4,
      "outputs": []
    },
    {
      "cell_type": "code",
      "source": [
        "#Creating the dataframe to store the items\n",
        "final_data=pd.DataFrame.from_dict(dic,orient=\"index\")\n",
        "final_data=final_data.T"
      ],
      "metadata": {
        "id": "rbc39xh2v3nr"
      },
      "execution_count": 5,
      "outputs": []
    },
    {
      "cell_type": "code",
      "source": [
        "#Saving the data into excel\n",
        "final_data.to_excel('Mobiel_data.xlsx',sheet_name=\"data\")"
      ],
      "metadata": {
        "id": "ItC5YODkwDKt"
      },
      "execution_count": 6,
      "outputs": []
    },
    {
      "cell_type": "code",
      "source": [
        "final_data.head()"
      ],
      "metadata": {
        "colab": {
          "base_uri": "https://localhost:8080/",
          "height": 206
        },
        "id": "97fbJS-GwXrj",
        "outputId": "aa79dee4-5d08-4d22-bec0-69529c0b1e33"
      },
      "execution_count": 7,
      "outputs": [
        {
          "output_type": "execute_result",
          "data": {
            "text/plain": [
              "                              Name  Prices  \\\n",
              "0  POCO C50 (Country Green, 32 GB)  ₹5,499   \n",
              "1     POCO C50 (Royal Blue, 32 GB)  ₹5,499   \n",
              "2    REDMI A1+ (Light Blue, 32 GB)  ₹6,749   \n",
              "3     POCO C55 (Cool Blue, 128 GB)  ₹8,499   \n",
              "4   REDMI A1+ (Light Green, 32 GB)  ₹6,749   \n",
              "\n",
              "                                        Descriptions Star_Rating  \\\n",
              "0  2 GB RAM | 32 GB ROM | Expandable Upto 512 GB1...         4.2   \n",
              "1  2 GB RAM | 32 GB ROM | Expandable Upto 512 GB1...         4.2   \n",
              "2  3 GB RAM | 32 GB ROM | Expandable Upto 512 GB1...         4.1   \n",
              "3  6 GB RAM | 128 GB ROM | Expandable Upto 1 TB17...         4.1   \n",
              "4  3 GB RAM | 32 GB ROM | Expandable Upto 512 GB1...         4.1   \n",
              "\n",
              "                    Rating_Review  \n",
              "0  37,874 Ratings & 1,758 Reviews  \n",
              "1  37,874 Ratings & 1,758 Reviews  \n",
              "2     4,991 Ratings & 259 Reviews  \n",
              "3    16,893 Ratings & 977 Reviews  \n",
              "4     4,991 Ratings & 259 Reviews  "
            ],
            "text/html": [
              "\n",
              "  <div id=\"df-1540f0a0-c3ab-427e-8f1d-ac8bda62f9f9\">\n",
              "    <div class=\"colab-df-container\">\n",
              "      <div>\n",
              "<style scoped>\n",
              "    .dataframe tbody tr th:only-of-type {\n",
              "        vertical-align: middle;\n",
              "    }\n",
              "\n",
              "    .dataframe tbody tr th {\n",
              "        vertical-align: top;\n",
              "    }\n",
              "\n",
              "    .dataframe thead th {\n",
              "        text-align: right;\n",
              "    }\n",
              "</style>\n",
              "<table border=\"1\" class=\"dataframe\">\n",
              "  <thead>\n",
              "    <tr style=\"text-align: right;\">\n",
              "      <th></th>\n",
              "      <th>Name</th>\n",
              "      <th>Prices</th>\n",
              "      <th>Descriptions</th>\n",
              "      <th>Star_Rating</th>\n",
              "      <th>Rating_Review</th>\n",
              "    </tr>\n",
              "  </thead>\n",
              "  <tbody>\n",
              "    <tr>\n",
              "      <th>0</th>\n",
              "      <td>POCO C50 (Country Green, 32 GB)</td>\n",
              "      <td>₹5,499</td>\n",
              "      <td>2 GB RAM | 32 GB ROM | Expandable Upto 512 GB1...</td>\n",
              "      <td>4.2</td>\n",
              "      <td>37,874 Ratings &amp; 1,758 Reviews</td>\n",
              "    </tr>\n",
              "    <tr>\n",
              "      <th>1</th>\n",
              "      <td>POCO C50 (Royal Blue, 32 GB)</td>\n",
              "      <td>₹5,499</td>\n",
              "      <td>2 GB RAM | 32 GB ROM | Expandable Upto 512 GB1...</td>\n",
              "      <td>4.2</td>\n",
              "      <td>37,874 Ratings &amp; 1,758 Reviews</td>\n",
              "    </tr>\n",
              "    <tr>\n",
              "      <th>2</th>\n",
              "      <td>REDMI A1+ (Light Blue, 32 GB)</td>\n",
              "      <td>₹6,749</td>\n",
              "      <td>3 GB RAM | 32 GB ROM | Expandable Upto 512 GB1...</td>\n",
              "      <td>4.1</td>\n",
              "      <td>4,991 Ratings &amp; 259 Reviews</td>\n",
              "    </tr>\n",
              "    <tr>\n",
              "      <th>3</th>\n",
              "      <td>POCO C55 (Cool Blue, 128 GB)</td>\n",
              "      <td>₹8,499</td>\n",
              "      <td>6 GB RAM | 128 GB ROM | Expandable Upto 1 TB17...</td>\n",
              "      <td>4.1</td>\n",
              "      <td>16,893 Ratings &amp; 977 Reviews</td>\n",
              "    </tr>\n",
              "    <tr>\n",
              "      <th>4</th>\n",
              "      <td>REDMI A1+ (Light Green, 32 GB)</td>\n",
              "      <td>₹6,749</td>\n",
              "      <td>3 GB RAM | 32 GB ROM | Expandable Upto 512 GB1...</td>\n",
              "      <td>4.1</td>\n",
              "      <td>4,991 Ratings &amp; 259 Reviews</td>\n",
              "    </tr>\n",
              "  </tbody>\n",
              "</table>\n",
              "</div>\n",
              "      <button class=\"colab-df-convert\" onclick=\"convertToInteractive('df-1540f0a0-c3ab-427e-8f1d-ac8bda62f9f9')\"\n",
              "              title=\"Convert this dataframe to an interactive table.\"\n",
              "              style=\"display:none;\">\n",
              "        \n",
              "  <svg xmlns=\"http://www.w3.org/2000/svg\" height=\"24px\"viewBox=\"0 0 24 24\"\n",
              "       width=\"24px\">\n",
              "    <path d=\"M0 0h24v24H0V0z\" fill=\"none\"/>\n",
              "    <path d=\"M18.56 5.44l.94 2.06.94-2.06 2.06-.94-2.06-.94-.94-2.06-.94 2.06-2.06.94zm-11 1L8.5 8.5l.94-2.06 2.06-.94-2.06-.94L8.5 2.5l-.94 2.06-2.06.94zm10 10l.94 2.06.94-2.06 2.06-.94-2.06-.94-.94-2.06-.94 2.06-2.06.94z\"/><path d=\"M17.41 7.96l-1.37-1.37c-.4-.4-.92-.59-1.43-.59-.52 0-1.04.2-1.43.59L10.3 9.45l-7.72 7.72c-.78.78-.78 2.05 0 2.83L4 21.41c.39.39.9.59 1.41.59.51 0 1.02-.2 1.41-.59l7.78-7.78 2.81-2.81c.8-.78.8-2.07 0-2.86zM5.41 20L4 18.59l7.72-7.72 1.47 1.35L5.41 20z\"/>\n",
              "  </svg>\n",
              "      </button>\n",
              "      \n",
              "  <style>\n",
              "    .colab-df-container {\n",
              "      display:flex;\n",
              "      flex-wrap:wrap;\n",
              "      gap: 12px;\n",
              "    }\n",
              "\n",
              "    .colab-df-convert {\n",
              "      background-color: #E8F0FE;\n",
              "      border: none;\n",
              "      border-radius: 50%;\n",
              "      cursor: pointer;\n",
              "      display: none;\n",
              "      fill: #1967D2;\n",
              "      height: 32px;\n",
              "      padding: 0 0 0 0;\n",
              "      width: 32px;\n",
              "    }\n",
              "\n",
              "    .colab-df-convert:hover {\n",
              "      background-color: #E2EBFA;\n",
              "      box-shadow: 0px 1px 2px rgba(60, 64, 67, 0.3), 0px 1px 3px 1px rgba(60, 64, 67, 0.15);\n",
              "      fill: #174EA6;\n",
              "    }\n",
              "\n",
              "    [theme=dark] .colab-df-convert {\n",
              "      background-color: #3B4455;\n",
              "      fill: #D2E3FC;\n",
              "    }\n",
              "\n",
              "    [theme=dark] .colab-df-convert:hover {\n",
              "      background-color: #434B5C;\n",
              "      box-shadow: 0px 1px 3px 1px rgba(0, 0, 0, 0.15);\n",
              "      filter: drop-shadow(0px 1px 2px rgba(0, 0, 0, 0.3));\n",
              "      fill: #FFFFFF;\n",
              "    }\n",
              "  </style>\n",
              "\n",
              "      <script>\n",
              "        const buttonEl =\n",
              "          document.querySelector('#df-1540f0a0-c3ab-427e-8f1d-ac8bda62f9f9 button.colab-df-convert');\n",
              "        buttonEl.style.display =\n",
              "          google.colab.kernel.accessAllowed ? 'block' : 'none';\n",
              "\n",
              "        async function convertToInteractive(key) {\n",
              "          const element = document.querySelector('#df-1540f0a0-c3ab-427e-8f1d-ac8bda62f9f9');\n",
              "          const dataTable =\n",
              "            await google.colab.kernel.invokeFunction('convertToInteractive',\n",
              "                                                     [key], {});\n",
              "          if (!dataTable) return;\n",
              "\n",
              "          const docLinkHtml = 'Like what you see? Visit the ' +\n",
              "            '<a target=\"_blank\" href=https://colab.research.google.com/notebooks/data_table.ipynb>data table notebook</a>'\n",
              "            + ' to learn more about interactive tables.';\n",
              "          element.innerHTML = '';\n",
              "          dataTable['output_type'] = 'display_data';\n",
              "          await google.colab.output.renderOutput(dataTable, element);\n",
              "          const docLink = document.createElement('div');\n",
              "          docLink.innerHTML = docLinkHtml;\n",
              "          element.appendChild(docLink);\n",
              "        }\n",
              "      </script>\n",
              "    </div>\n",
              "  </div>\n",
              "  "
            ]
          },
          "metadata": {},
          "execution_count": 7
        }
      ]
    },
    {
      "cell_type": "code",
      "source": [
        "#Checking the shape of the dataframe.\n",
        "final_data.shape"
      ],
      "metadata": {
        "colab": {
          "base_uri": "https://localhost:8080/"
        },
        "id": "V4hFiRHfwOzk",
        "outputId": "6800daa1-8ea0-4d41-cb5d-1f05d899c56a"
      },
      "execution_count": 8,
      "outputs": [
        {
          "output_type": "execute_result",
          "data": {
            "text/plain": [
              "(984, 5)"
            ]
          },
          "metadata": {},
          "execution_count": 8
        }
      ]
    }
  ]
}